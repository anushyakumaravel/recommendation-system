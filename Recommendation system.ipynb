{
 "cells": [
  {
   "cell_type": "markdown",
   "id": "dff39112-550d-4775-946b-ce9b9e1a9e50",
   "metadata": {},
   "source": [
    "# Recommendation System"
   ]
  },
  {
   "cell_type": "markdown",
   "id": "e99eba1b-d3ad-4a9a-ae9f-3908645dce32",
   "metadata": {},
   "source": [
    "## Data Preprocessing:"
   ]
  },
  {
   "cell_type": "code",
   "execution_count": 3,
   "id": "4d00e1bd-17a0-4413-bda6-5f75c50894c6",
   "metadata": {},
   "outputs": [
    {
     "name": "stdout",
     "output_type": "stream",
     "text": [
      "   anime_id                              name  \\\n",
      "0     32281                    Kimi no Na wa.   \n",
      "1      5114  Fullmetal Alchemist: Brotherhood   \n",
      "2     28977                          Gintama°   \n",
      "3      9253                       Steins;Gate   \n",
      "4      9969                     Gintama&#039;   \n",
      "\n",
      "                                               genre   type episodes  rating  \\\n",
      "0               Drama, Romance, School, Supernatural  Movie        1    9.37   \n",
      "1  Action, Adventure, Drama, Fantasy, Magic, Mili...     TV       64    9.26   \n",
      "2  Action, Comedy, Historical, Parody, Samurai, S...     TV       51    9.25   \n",
      "3                                   Sci-Fi, Thriller     TV       24    9.17   \n",
      "4  Action, Comedy, Historical, Parody, Samurai, S...     TV       51    9.16   \n",
      "\n",
      "   members  \n",
      "0   200630  \n",
      "1   793665  \n",
      "2   114262  \n",
      "3   673572  \n",
      "4   151266  \n"
     ]
    }
   ],
   "source": [
    "import pandas as pd\n",
    "from sklearn.metrics.pairwise import cosine_similarity\n",
    "from sklearn.preprocessing import OneHotEncoder, StandardScaler\n",
    "from sklearn.model_selection import train_test_split\n",
    "from sklearn.metrics import precision_score, recall_score, f1_score\n",
    "\n",
    "# Replace 'your_dataset.csv' with the actual path or filename of your dataset\n",
    "df = pd.read_csv(r\"C:\\Users\\Lenovo\\Desktop\\machine l\\anime.csv\")\n",
    "\n",
    "# Display the first few rows to confirm it loaded correctly\n",
    "print(df.head())\n"
   ]
  },
  {
   "cell_type": "code",
   "execution_count": 5,
   "id": "23e0578f-67cd-4fd1-b876-29e084894493",
   "metadata": {},
   "outputs": [
    {
     "name": "stdout",
     "output_type": "stream",
     "text": [
      "anime_id      0\n",
      "name          0\n",
      "genre        62\n",
      "type         25\n",
      "episodes      0\n",
      "rating      230\n",
      "members       0\n",
      "dtype: int64\n",
      "   anime_id                              name  \\\n",
      "0     32281                    Kimi no Na wa.   \n",
      "1      5114  Fullmetal Alchemist: Brotherhood   \n",
      "2     28977                          Gintama°   \n",
      "3      9253                       Steins;Gate   \n",
      "4      9969                     Gintama&#039;   \n",
      "\n",
      "                                               genre   type episodes  rating  \\\n",
      "0               Drama, Romance, School, Supernatural  Movie        1    9.37   \n",
      "1  Action, Adventure, Drama, Fantasy, Magic, Mili...     TV       64    9.26   \n",
      "2  Action, Comedy, Historical, Parody, Samurai, S...     TV       51    9.25   \n",
      "3                                   Sci-Fi, Thriller     TV       24    9.17   \n",
      "4  Action, Comedy, Historical, Parody, Samurai, S...     TV       51    9.16   \n",
      "\n",
      "   members  \n",
      "0   200630  \n",
      "1   793665  \n",
      "2   114262  \n",
      "3   673572  \n",
      "4   151266  \n"
     ]
    }
   ],
   "source": [
    "# Check for missing values in the dataset\n",
    "print(df.isnull().sum())\n",
    "\n",
    "# Option 1: Drop rows with missing values (if data loss is acceptable)\n",
    "df_cleaned = df.dropna()\n",
    "\n",
    "# Option 2: Fill missing values with a specific value (e.g., 0 or column mean)\n",
    "df_filled = df.fillna(0)  # Replace NaNs with 0\n",
    "\n",
    "# Option 3: Fill missing values with the mean of each column\n",
    "df_filled_mean = df.fillna(df.mean(numeric_only=True))\n",
    "\n",
    "# Display the cleaned DataFrame to verify\n",
    "print(df_filled.head())"
   ]
  },
  {
   "cell_type": "code",
   "execution_count": 7,
   "id": "adecc2b7-1ba1-4e11-8c7e-4afe237f6297",
   "metadata": {},
   "outputs": [
    {
     "name": "stdout",
     "output_type": "stream",
     "text": [
      "<class 'pandas.core.frame.DataFrame'>\n",
      "RangeIndex: 12294 entries, 0 to 12293\n",
      "Data columns (total 7 columns):\n",
      " #   Column    Non-Null Count  Dtype  \n",
      "---  ------    --------------  -----  \n",
      " 0   anime_id  12294 non-null  int64  \n",
      " 1   name      12294 non-null  object \n",
      " 2   genre     12232 non-null  object \n",
      " 3   type      12269 non-null  object \n",
      " 4   episodes  12294 non-null  object \n",
      " 5   rating    12064 non-null  float64\n",
      " 6   members   12294 non-null  int64  \n",
      "dtypes: float64(1), int64(2), object(4)\n",
      "memory usage: 672.5+ KB\n",
      "None\n",
      "           anime_id        rating       members\n",
      "count  12294.000000  12064.000000  1.229400e+04\n",
      "mean   14058.221653      6.473902  1.807134e+04\n",
      "std    11455.294701      1.026746  5.482068e+04\n",
      "min        1.000000      1.670000  5.000000e+00\n",
      "25%     3484.250000      5.880000  2.250000e+02\n",
      "50%    10260.500000      6.570000  1.550000e+03\n",
      "75%    24794.500000      7.180000  9.437000e+03\n",
      "max    34527.000000     10.000000  1.013917e+06\n"
     ]
    }
   ],
   "source": [
    "# Get basic information about the dataset\n",
    "print(df.info())\n",
    "\n",
    "# Summary statistics for numeric columns\n",
    "print(df.describe())"
   ]
  },
  {
   "cell_type": "code",
   "execution_count": 9,
   "id": "d9f6c5c2-e597-4b19-9d83-b9746c2ca77b",
   "metadata": {},
   "outputs": [
    {
     "name": "stdout",
     "output_type": "stream",
     "text": [
      "anime_id      int64\n",
      "name         object\n",
      "genre        object\n",
      "type         object\n",
      "episodes     object\n",
      "rating      float64\n",
      "members       int64\n",
      "dtype: object\n"
     ]
    }
   ],
   "source": [
    "print(df.dtypes)"
   ]
  },
  {
   "cell_type": "code",
   "execution_count": 11,
   "id": "9118cfe0-6476-4d91-8355-8aac8fba2cc0",
   "metadata": {},
   "outputs": [
    {
     "name": "stdout",
     "output_type": "stream",
     "text": [
      "['Movie' 'TV' 'OVA' 'Special' 'Music' 'ONA' nan]\n",
      "type\n",
      "TV         3787\n",
      "OVA        3311\n",
      "Movie      2348\n",
      "Special    1676\n",
      "ONA         659\n",
      "Music       488\n",
      "Name: count, dtype: int64\n"
     ]
    }
   ],
   "source": [
    "# Unique values in a particular column\n",
    "print(df['type'].unique())\n",
    "\n",
    "# Value counts for categorical columns\n",
    "print(df['type'].value_counts())"
   ]
  },
  {
   "cell_type": "code",
   "execution_count": 13,
   "id": "b4ef29a0-51bb-49f7-8ea8-388520c8eb9d",
   "metadata": {},
   "outputs": [
    {
     "name": "stdout",
     "output_type": "stream",
     "text": [
      "Dataset shape: (12294, 7)\n"
     ]
    }
   ],
   "source": [
    "print(f\"Dataset shape: {df.shape}\")"
   ]
  },
  {
   "cell_type": "code",
   "execution_count": 15,
   "id": "c4844c18-a0d9-4111-8b82-5029c8988a51",
   "metadata": {},
   "outputs": [
    {
     "data": {
      "image/png": "[encoded data removed]",
      "text/plain": [
       "<Figure size 640x480 with 1 Axes>"
      ]
     },
     "metadata": {},
     "output_type": "display_data"
    }
   ],
   "source": [
    "import seaborn as sns\n",
    "import matplotlib.pyplot as plt\n",
    "\n",
    "# Example: Plotting the distribution of a numeric column\n",
    "sns.histplot(df['type'], kde=True)\n",
    "plt.show()"
   ]
  },
  {
   "cell_type": "code",
   "execution_count": 27,
   "id": "953aaf67-fdf4-4720-86b3-5d855f80dba1",
   "metadata": {},
   "outputs": [
    {
     "data": {
      "text/html": [
       "<div>\n",
       "<style scoped>\n",
       "    .dataframe tbody tr th:only-of-type {\n",
       "        vertical-align: middle;\n",
       "    }\n",
       "\n",
       "    .dataframe tbody tr th {\n",
       "        vertical-align: top;\n",
       "    }\n",
       "\n",
       "    .dataframe thead th {\n",
       "        text-align: right;\n",
       "    }\n",
       "</style>\n",
       "<table border=\"1\" class=\"dataframe\">\n",
       "  <thead>\n",
       "    <tr style=\"text-align: right;\">\n",
       "      <th></th>\n",
       "      <th>anime_id</th>\n",
       "      <th>rating</th>\n",
       "      <th>members</th>\n",
       "    </tr>\n",
       "  </thead>\n",
       "  <tbody>\n",
       "    <tr>\n",
       "      <th>0</th>\n",
       "      <td>32281</td>\n",
       "      <td>9.37</td>\n",
       "      <td>200630</td>\n",
       "    </tr>\n",
       "    <tr>\n",
       "      <th>1</th>\n",
       "      <td>5114</td>\n",
       "      <td>9.26</td>\n",
       "      <td>793665</td>\n",
       "    </tr>\n",
       "    <tr>\n",
       "      <th>2</th>\n",
       "      <td>28977</td>\n",
       "      <td>9.25</td>\n",
       "      <td>114262</td>\n",
       "    </tr>\n",
       "    <tr>\n",
       "      <th>3</th>\n",
       "      <td>9253</td>\n",
       "      <td>9.17</td>\n",
       "      <td>673572</td>\n",
       "    </tr>\n",
       "    <tr>\n",
       "      <th>4</th>\n",
       "      <td>9969</td>\n",
       "      <td>9.16</td>\n",
       "      <td>151266</td>\n",
       "    </tr>\n",
       "    <tr>\n",
       "      <th>...</th>\n",
       "      <td>...</td>\n",
       "      <td>...</td>\n",
       "      <td>...</td>\n",
       "    </tr>\n",
       "    <tr>\n",
       "      <th>12289</th>\n",
       "      <td>9316</td>\n",
       "      <td>4.15</td>\n",
       "      <td>211</td>\n",
       "    </tr>\n",
       "    <tr>\n",
       "      <th>12290</th>\n",
       "      <td>5543</td>\n",
       "      <td>4.28</td>\n",
       "      <td>183</td>\n",
       "    </tr>\n",
       "    <tr>\n",
       "      <th>12291</th>\n",
       "      <td>5621</td>\n",
       "      <td>4.88</td>\n",
       "      <td>219</td>\n",
       "    </tr>\n",
       "    <tr>\n",
       "      <th>12292</th>\n",
       "      <td>6133</td>\n",
       "      <td>4.98</td>\n",
       "      <td>175</td>\n",
       "    </tr>\n",
       "    <tr>\n",
       "      <th>12293</th>\n",
       "      <td>26081</td>\n",
       "      <td>5.46</td>\n",
       "      <td>142</td>\n",
       "    </tr>\n",
       "  </tbody>\n",
       "</table>\n",
       "<p>12294 rows × 3 columns</p>\n",
       "</div>"
      ],
      "text/plain": [
       "       anime_id  rating  members\n",
       "0         32281    9.37   200630\n",
       "1          5114    9.26   793665\n",
       "2         28977    9.25   114262\n",
       "3          9253    9.17   673572\n",
       "4          9969    9.16   151266\n",
       "...         ...     ...      ...\n",
       "12289      9316    4.15      211\n",
       "12290      5543    4.28      183\n",
       "12291      5621    4.88      219\n",
       "12292      6133    4.98      175\n",
       "12293     26081    5.46      142\n",
       "\n",
       "[12294 rows x 3 columns]"
      ]
     },
     "execution_count": 27,
     "metadata": {},
     "output_type": "execute_result"
    }
   ],
   "source": [
    "# Remove string columns\n",
    "data = df.select_dtypes(exclude=['object'])\n",
    "data"
   ]
  },
  {
   "cell_type": "markdown",
   "id": "8155d310-82e4-4da9-b868-65fec2891a1a",
   "metadata": {},
   "source": [
    "# Feature Extraction:"
   ]
  },
  {
   "cell_type": "code",
   "execution_count": 31,
   "id": "b98b8965-52d1-4ccd-b1c8-e3d9ae62a6c7",
   "metadata": {},
   "outputs": [],
   "source": [
    "# Feature Extraction\n",
    "\n",
    "# Convert genres into one-hot encoded format\n",
    "\n",
    "encoder = OneHotEncoder()\n",
    "genre_encoded = encoder.fit_transform(df[['genre']]).toarray()"
   ]
  },
  {
   "cell_type": "code",
   "execution_count": 39,
   "id": "ca239744-ebf8-4680-bca6-5a91dc2246e0",
   "metadata": {},
   "outputs": [],
   "source": [
    "#Prepare features DataFrame\n",
    "\n",
    "features = pd.DataFrame(genre_encoded, columns=encoder.get_feature_names_out())\n",
    "features['rating'] = data['rating']\n",
    "\n",
    "# Normalize numerical features\n",
    "\n",
    "scaler = StandardScaler()\n",
    "features[['rating']] = scaler.fit_transform(features[['rating']])\n"
   ]
  },
  {
   "cell_type": "markdown",
   "id": "928a30cb-b003-43e3-af95-7142f1793ffb",
   "metadata": {},
   "source": [
    "# Recommendation System:"
   ]
  },
  {
   "cell_type": "code",
   "execution_count": 21,
   "id": "f68c3dec-fd2e-4468-bd76-5b62511029bf",
   "metadata": {},
   "outputs": [
    {
     "name": "stdout",
     "output_type": "stream",
     "text": [
      "Initial Dataset:\n",
      "              Anime             Genres  User Rating  Episodes\n",
      "0            Naruto  Action, Adventure          8.3       500\n",
      "1   Attack on Titan      Action, Drama          9.1        75\n",
      "2         One Piece  Adventure, Comedy          8.9      1000\n",
      "3        Death Note     Drama, Mystery          9.0        37\n",
      "4  My Hero Academia     Action, Comedy          8.5        88\n",
      "\n",
      "Feature Matrix:\n",
      "   User Rating  Episodes  Action  Adventure  Comedy  Drama  Mystery\n",
      "0    -1.497172  0.431727       1          1       0      0        0\n",
      "1     1.106606 -0.715048       1          0       0      1        0\n",
      "2     0.455661  1.780875       0          1       1      0        0\n",
      "3     0.781133 -0.817583       0          0       0      1        1\n",
      "4    -0.846228 -0.679970       1          0       1      0        0\n",
      "\n",
      "Cosine Similarity Matrix:\n",
      "[[ 1.         -0.23738336  0.22265533 -0.39957894  0.52602248]\n",
      " [-0.23738336  1.         -0.17158221  0.69976325  0.15954288]\n",
      " [ 0.22265533 -0.17158221  1.         -0.26195299 -0.1442684 ]\n",
      " [-0.39957894  0.69976325 -0.26195299  1.         -0.03255253]\n",
      " [ 0.52602248  0.15954288 -0.1442684  -0.03255253  1.        ]]\n"
     ]
    }
   ],
   "source": [
    "import pandas as pd\n",
    "from sklearn.preprocessing import MultiLabelBinarizer, StandardScaler\n",
    "from sklearn.metrics.pairwise import cosine_similarity\n",
    "\n",
    "# 1. Create a sample dataset\n",
    "data = {\n",
    "    'Anime': ['Naruto', 'Attack on Titan', 'One Piece', 'Death Note', 'My Hero Academia'],\n",
    "    'Genres': ['Action, Adventure', 'Action, Drama', 'Adventure, Comedy', 'Drama, Mystery', 'Action, Comedy'],\n",
    "    'User Rating': [8.3, 9.1, 8.9, 9.0, 8.5],\n",
    "    'Episodes': [500, 75, 1000, 37, 88]\n",
    "}\n",
    "\n",
    "df = pd.DataFrame(data)\n",
    "\n",
    "# Display the dataset\n",
    "print(\"Initial Dataset:\")\n",
    "print(df)\n",
    "\n",
    "# 2. Convert the 'Genres' column into lists\n",
    "df['Genres'] = df['Genres'].apply(lambda x: x.split(', '))\n",
    "\n",
    "# 3. One-hot encode the genres using MultiLabelBinarizer\n",
    "mlb = MultiLabelBinarizer()\n",
    "genres_encoded = mlb.fit_transform(df['Genres'])\n",
    "genres_df = pd.DataFrame(genres_encoded, columns=mlb.classes_)\n",
    "# 4. Normalize the numerical features\n",
    "scaler = StandardScaler()\n",
    "df[['User Rating', 'Episodes']] = scaler.fit_transform(df[['User Rating', 'Episodes']])\n",
    "\n",
    "# 5. Concatenate the encoded genres with normalized numerical features\n",
    "df_final = pd.concat([df, genres_df], axis=1).drop(['Genres', 'Anime'], axis=1)\n",
    "\n",
    "print(\"\\nFeature Matrix:\")\n",
    "print(df_final)\n",
    "\n",
    "# 6. Compute the cosine similarity matrix\n",
    "cosine_sim = cosine_similarity(df_final)\n",
    "\n",
    "print(\"\\nCosine Similarity Matrix:\")\n",
    "print(cosine_sim)\n"
   ]
  },
  {
   "cell_type": "code",
   "execution_count": 23,
   "id": "c18d21c2-c89a-4e5b-9a5e-0fb3c142a988",
   "metadata": {},
   "outputs": [
    {
     "name": "stdout",
     "output_type": "stream",
     "text": [
      "\n",
      "Recommendations for 'Naruto' (Threshold = 0.5):\n",
      "[('My Hero Academia', 0.53)]\n"
     ]
    }
   ],
   "source": [
    "def recommend_anime(anime_name, df, cosine_sim_matrix, threshold=0.5):\n",
    "    \"\"\"\n",
    "    Recommends anime based on cosine similarity.\n",
    "    \n",
    "    Parameters:\n",
    "    - anime_name: Name of the target anime\n",
    "    - df: Original DataFrame containing the anime data\n",
    "    - cosine_sim_matrix: Precomputed cosine similarity matrix\n",
    "    - threshold: Minimum similarity score for recommendations\n",
    "    \n",
    "    Returns:\n",
    "    - List of recommended anime with similarity scores\n",
    "    \"\"\"\n",
    "    if anime_name not in df['Anime'].values:\n",
    "        return f\"Anime '{anime_name}' not found in the dataset.\"\n",
    "\n",
    "    # Get the index of the target anime\n",
    "    idx = df[df['Anime'] == anime_name].index[0]\n",
    "\n",
    "    # Get similarity scores for the target anime\n",
    "    sim_scores = list(enumerate(cosine_sim_matrix[idx]))\n",
    "\n",
    "    # Sort anime by similarity score in descending order\n",
    "    sim_scores = sorted(sim_scores, key=lambda x: x[1], reverse=True)\n",
    "\n",
    "    # Filter anime with similarity scores above the threshold (excluding the target anime itself)\n",
    "    sim_scores = [(i, score) for i, score in sim_scores if score >= threshold and i != idx]\n",
    "\n",
    "    # Prepare the recommendation list\n",
    "    recommendations = [(df['Anime'].iloc[i], round(score, 2)) for i, score in sim_scores]\n",
    "\n",
    "    if recommendations:\n",
    "        return recommendations\n",
    "    else:\n",
    "        return f\"No recommendations found for '{anime_name}' with the given threshold.\"\n",
    "\n",
    "# 7. Test the recommendation function\n",
    "target_anime = 'Naruto'\n",
    "threshold_value = 0.5\n",
    "\n",
    "recommendations = recommend_anime(target_anime, df, cosine_sim, threshold=threshold_value)\n",
    "print(f\"\\nRecommendations for '{target_anime}' (Threshold = {threshold_value}):\")\n",
    "print(recommendations)\n"
   ]
  },
  {
   "cell_type": "markdown",
   "id": "9ab5447b-2c6f-4f0c-8a1d-1268309e6762",
   "metadata": {},
   "source": [
    "# Evaluation:"
   ]
  },
  {
   "cell_type": "code",
   "execution_count": 26,
   "id": "0e53f5ae-fa12-48b6-b861-fcd75eb870c8",
   "metadata": {},
   "outputs": [
    {
     "name": "stdout",
     "output_type": "stream",
     "text": [
      "User-Anime Matrix:\n",
      "Anime  Attack on Titan  Death Note  My Hero Academia  Naruto  One Piece\n",
      "User                                                                   \n",
      "U1                 4.0         0.0               0.0     5.0        0.0\n",
      "U2                 0.0         0.0               0.0     5.0        3.0\n",
      "U3                 0.0         5.0               4.0     0.0        0.0\n",
      "U4                 0.0         0.0               0.0     2.0        4.0\n",
      "U5                 5.0         4.0               0.0     0.0        0.0\n"
     ]
    }
   ],
   "source": [
    "import pandas as pd\n",
    "import numpy as np\n",
    "from sklearn.model_selection import train_test_split\n",
    "from sklearn.metrics.pairwise import cosine_similarity\n",
    "from sklearn.metrics import precision_score, recall_score, f1_score\n",
    "\n",
    "# Sample user-anime rating dataset\n",
    "data = {\n",
    "    'User': ['U1', 'U1', 'U2', 'U2', 'U3', 'U3', 'U4', 'U4', 'U5', 'U5'],\n",
    "    'Anime': ['Naruto', 'Attack on Titan', 'Naruto', 'One Piece', \n",
    "              'Death Note', 'My Hero Academia', 'Naruto', 'One Piece',\n",
    "              'Death Note', 'Attack on Titan'],\n",
    "    'Rating': [5, 4, 5, 3, 5, 4, 2, 4, 4, 5]\n",
    "}\n",
    "\n",
    "df = pd.DataFrame(data)\n",
    "\n",
    "# Pivot the data to create a user-anime matrix\n",
    "user_anime_matrix = df.pivot_table(index='User', columns='Anime', values='Rating').fillna(0)\n",
    "\n",
    "print(\"User-Anime Matrix:\")\n",
    "print(user_anime_matrix)\n"
   ]
  },
  {
   "cell_type": "code",
   "execution_count": 28,
   "id": "a0f41e56-5200-4ba3-b186-13fc3ac37ef6",
   "metadata": {},
   "outputs": [
    {
     "name": "stdout",
     "output_type": "stream",
     "text": [
      "\n",
      "Training Matrix:\n",
      "Anime  Attack on Titan  Death Note  My Hero Academia  Naruto  One Piece\n",
      "User                                                                   \n",
      "U1                 0.0         0.0               0.0     5.0        0.0\n",
      "U2                 0.0         0.0               0.0     5.0        3.0\n",
      "U3                 0.0         5.0               4.0     0.0        0.0\n",
      "U4                 0.0         0.0               0.0     2.0        4.0\n",
      "U5                 5.0         0.0               0.0     0.0        0.0\n",
      "\n",
      "Testing Matrix:\n",
      "Anime  Attack on Titan  Death Note\n",
      "User                              \n",
      "U1                 4.0         0.0\n",
      "U5                 0.0         4.0\n"
     ]
    }
   ],
   "source": [
    "# Split the dataset into training and testing sets\n",
    "train, test = train_test_split(df, test_size=0.2, random_state=42)\n",
    "\n",
    "# Create pivot tables for the train and test sets\n",
    "train_matrix = train.pivot_table(index='User', columns='Anime', values='Rating').fillna(0)\n",
    "test_matrix = test.pivot_table(index='User', columns='Anime', values='Rating').fillna(0)\n",
    "\n",
    "print(\"\\nTraining Matrix:\")\n",
    "print(train_matrix)\n",
    "\n",
    "print(\"\\nTesting Matrix:\")\n",
    "print(test_matrix)\n"
   ]
  },
  {
   "cell_type": "code",
   "execution_count": 30,
   "id": "2fcd5fa7-be13-47cc-ad54-7cb74928bb99",
   "metadata": {},
   "outputs": [
    {
     "name": "stdout",
     "output_type": "stream",
     "text": [
      "\n",
      "User Similarity Matrix:\n",
      "User        U1        U2   U3        U4   U5\n",
      "User                                        \n",
      "U1    1.000000  0.857493  0.0  0.447214  0.0\n",
      "U2    0.857493  1.000000  0.0  0.843661  0.0\n",
      "U3    0.000000  0.000000  1.0  0.000000  0.0\n",
      "U4    0.447214  0.843661  0.0  1.000000  0.0\n",
      "U5    0.000000  0.000000  0.0  0.000000  1.0\n",
      "\n",
      "Recommendations for U1:\n",
      "['One Piece', 'Attack on Titan', 'Death Note']\n"
     ]
    }
   ],
   "source": [
    "# Compute cosine similarity between users based on the training matrix\n",
    "user_similarity = cosine_similarity(train_matrix)\n",
    "user_sim_df = pd.DataFrame(user_similarity, index=train_matrix.index, columns=train_matrix.index)\n",
    "\n",
    "print(\"\\nUser Similarity Matrix:\")\n",
    "print(user_sim_df)\n",
    "\n",
    "# Function to recommend anime based on user similarity\n",
    "def recommend_anime(user, train_matrix, user_sim_df, top_n=3):\n",
    "    \"\"\"\n",
    "    Recommend top N anime for a given user based on user similarity.\n",
    "\n",
    "    Parameters:\n",
    "    - user: Target user for recommendations\n",
    "    - train_matrix: User-anime training matrix\n",
    "    - user_sim_df: User similarity matrix\n",
    "    - top_n: Number of recommendations to make\n",
    "\n",
    "    Returns:\n",
    "    - List of recommended anime\n",
    "    \"\"\"\n",
    "    # Find similar users\n",
    "    similar_users = user_sim_df[user].sort_values(ascending=False).index[1:]\n",
    "\n",
    "    # Aggregate ratings from similar users\n",
    "    user_ratings = train_matrix.loc[similar_users].mean(axis=0)\n",
    "\n",
    "    # Filter out anime the user has already rated\n",
    "    rated_anime = train_matrix.loc[user][train_matrix.loc[user] > 0].index\n",
    "    recommendations = user_ratings.drop(rated_anime).sort_values(ascending=False).head(top_n)\n",
    "\n",
    "    return recommendations.index.tolist()\n",
    "\n",
    "# Example recommendation for user 'U1'\n",
    "print(\"\\nRecommendations for U1:\")\n",
    "print(recommend_anime('U1', train_matrix, user_sim_df))\n"
   ]
  },
  {
   "cell_type": "code",
   "execution_count": 32,
   "id": "e445274f-5a2f-4ca0-b6f0-55bb81d770a0",
   "metadata": {},
   "outputs": [
    {
     "name": "stdout",
     "output_type": "stream",
     "text": [
      "\n",
      "Evaluation Metrics:\n",
      "Precision: 0.33\n",
      "Recall: 1.00\n",
      "F1-Score: 0.50\n"
     ]
    }
   ],
   "source": [
    "# Function to evaluate the recommendation system\n",
    "def evaluate_recommendations(train_matrix, test_matrix, user_sim_df, top_n=3):\n",
    "    precisions, recalls, f1_scores = [], [], []\n",
    "\n",
    "    for user in test_matrix.index:\n",
    "        # Generate recommendations\n",
    "        recommendations = recommend_anime(user, train_matrix, user_sim_df, top_n=top_n)\n",
    "\n",
    "        # Get the actual anime the user has rated in the test set\n",
    "        actual_anime = test_matrix.loc[user][test_matrix.loc[user] > 0].index.tolist()\n",
    "\n",
    "        # Calculate True Positives (TP), False Positives (FP), and False Negatives (FN)\n",
    "        TP = len(set(recommendations) & set(actual_anime))\n",
    "        FP = len(set(recommendations) - set(actual_anime))\n",
    "        FN = len(set(actual_anime) - set(recommendations))\n",
    "\n",
    "        # Compute precision, recall, and F1-score\n",
    "        precision = TP / (TP + FP) if (TP + FP) > 0 else 0\n",
    "        recall = TP / (TP + FN) if (TP + FN) > 0 else 0\n",
    "        f1 = (2 * precision * recall) / (precision + recall) if (precision + recall) > 0 else 0\n",
    "\n",
    "        precisions.append(precision)\n",
    "        recalls.append(recall)\n",
    "        f1_scores.append(f1)\n",
    "\n",
    "    # Calculate average precision, recall, and F1-score\n",
    "    avg_precision = np.mean(precisions)\n",
    "    avg_recall = np.mean(recalls)\n",
    "    avg_f1 = np.mean(f1_scores)\n",
    "\n",
    "    return avg_precision, avg_recall, avg_f1\n",
    "\n",
    "# Evaluate the recommendation system\n",
    "precision, recall, f1 = evaluate_recommendations(train_matrix, test_matrix, user_sim_df, top_n=3)\n",
    "\n",
    "print(f\"\\nEvaluation Metrics:\")\n",
    "print(f\"Precision: {precision:.2f}\")\n",
    "print(f\"Recall: {recall:.2f}\")\n",
    "print(f\"F1-Score: {f1:.2f}\")\n"
   ]
  },
  {
   "cell_type": "markdown",
   "id": "e9cdc605-80a0-4cb6-9dd1-e896d65a475e",
   "metadata": {},
   "source": [
    "## Interview Questions:"
   ]
  },
  {
   "cell_type": "markdown",
   "id": "67e27a6c-ef8b-4a2d-8f51-b88a71a7fabc",
   "metadata": {},
   "source": [
    "# 1 . Can you explain the difference between user-based and item-based collaborative filtering?"
   ]
  },
  {
   "cell_type": "markdown",
   "id": "98ec5ddf-ead6-4860-8956-a6e54c82cbd2",
   "metadata": {},
   "source": [
    "User-based collaborative filtering and item-based collaborative filtering are two popular approaches for generating recommendations. Both rely on the idea that similar entities (users or items) will behave similarly. However, they differ in how they compute similarity and generate recommendations. Let’s break down the key differences between the two.\n",
    "\n",
    "1. User-Based Collaborative Filtering\n",
    "  ** User-based filtering identifies similar users and recommends items that these similar users have liked or interacted with.\n",
    "\n",
    "Process:\n",
    " \n",
    "1 Compute Similarity Between Users:\n",
    "\n",
    " *Based on user behavior (e.g., ratings, clicks, or purchases).\n",
    " *Similarity metrics: Cosine similarity, Pearson correlation, or Jaccard similarity.\n",
    "\n",
    "2 Generate Recommendations:\n",
    "\n",
    " * For a given user, find other users with similar tastes.\n",
    "* Recommend items these similar users have interacted with but the target user hasn’t.\n",
    "\n",
    "     \n",
    "Example:\n",
    "  *If Alice likes Naruto and One Piece, and Bob (a similar user) likes Naruto and Attack on Titan, Alice will be recommended Attack on Titan.\n",
    "\n",
    "Pros:\n",
    "\n",
    "* Works well for communities with many users sharing similar preferences.\n",
    "* Useful when items have few interactions but users are highly active.\n",
    "\n",
    "Cons:\n",
    "\n",
    "*Cold-start problem: If a new user has no interactions, recommendations are difficult.\n",
    "*Doesn’t scale well with large datasets (too many users).\n",
    "\n",
    "2. Item-Based Collaborative Filtering\n",
    "  * Item-based filtering identifies similar items and recommends items that are related to what the user has already interacted with.\n",
    "\n",
    "Process:\n",
    "\n",
    "1 Compute Similarity Between Items:\n",
    "\n",
    " * Based on user interaction patterns (e.g., users who rated item A highly tend to also rate item B highly).\n",
    " * Similarity metrics: Cosine similarity or Adjusted cosine similarity.\n",
    "\n",
    "2 Generate Recommendations:\n",
    "\n",
    "  * For a given user, recommend items similar to those the user has already interacted with.\n",
    "\n",
    "Example:\n",
    "*If Alice watches Naruto, and other users who watched Naruto also watched Attack on Titan, Alice will be recommended Attack on Titan.\n",
    "\n",
    "Pros:\n",
    "\n",
    "* Scales better than user-based filtering (fewer items than users in many cases).\n",
    "\n",
    "* Works well for large, sparse datasets (e.g., movie or product recommendations).\n",
    "\n",
    "\n",
    "Cons:\n",
    "\n",
    "* Cold-start problem: If an item is new, it won’t have enough interactions to compute similarity.\n",
    "\n",
    "* May not account for changing user preferences as effectively as user-based filtering.\n"
   ]
  },
  {
   "cell_type": "markdown",
   "id": "ceffa52a-da5d-4d34-ab89-a6f0162eab2a",
   "metadata": {},
   "source": [
    "# 2. What is collaborative filtering, and how does it work?"
   ]
  },
  {
   "cell_type": "markdown",
   "id": "4f1efd4d-1fed-48a8-922e-9e6b48b70edc",
   "metadata": {},
   "source": [
    "Collaborative Filtering Overview\n",
    " * Collaborative filtering (CF) is a popular technique used in recommendation systems to suggest items (e.g., movies, products, music) to users based on their preferences or interactions. The core idea is that people with similar tastes will like similar things. CF leverages historical interactions like ratings, clicks, or purchases to identify patterns among users or items.\n",
    "\n",
    "How Collaborative Filtering Works\n",
    " * Collaborative filtering works by analyzing the relationships between users and items in a dataset. It tries to predict the interest of a user in a specific item by looking at either:\n",
    "\n",
    " * Similar users' preferences (User-based CF)\n",
    "  * Similar items that the user interacted with (Item-based CF)\n",
    "\n",
    "There are two primary types of collaborative filtering:\n",
    "\n",
    "1 User-Based Collaborative Filtering\n",
    "2 Item-Based Collaborative Filtering\n",
    "\n",
    "1. User-Based Collaborative Filtering\n",
    "* In user-based CF, the goal is to find users with similar behavior or preferences and recommend items they have interacted with but the target user hasn’t.\n",
    "\n",
    "Example:\n",
    "\n",
    "* User A and User B both gave high ratings to Naruto and One Piece.\n",
    "* If User A also likes Attack on Titan, the system will recommend Attack on Titan to User B since they have similar preferences.\n",
    "Steps:\n",
    "1 Find similar users to the target user using a similarity metric like cosine similarity or Pearson correlation.\n",
    "2 Aggregate ratings or interactions from those similar users.\n",
    "3 Recommend items that these similar users have interacted with but the target user hasn’t.\n",
    "\n",
    "Challenges:\n",
    "1 Cold start problem: Hard to recommend for new users.\n",
    "2 Scalability issue: Finding similar users can be computationally expensive for large datasets.\n",
    "2. Item-Based Collaborative Filtering\n",
    "  * In item-based CF, the goal is to find items that are similar to those the target user has already interacted with and recommend them.\n",
    "\n",
    "Example:\n",
    " * If a user watches Naruto and One Piece, and Attack on Titan is highly similar to these, the system will recommend Attack on Titan.\n",
    "\n",
    "Steps:\n",
    "\n",
    "1 Compute similarity between items based on user ratings or interactions.\n",
    "2 For each item the user has interacted with, find similar items.\n",
    "3 Aggregate these similar items to generate a recommendation list.\n",
    "\n",
    "Challenges:\n",
    "\n",
    "* Cold start for new items: Hard to recommend items that have few interactions.\n",
    "* May over-recommend popular items, ignoring less-known but relevant ones.\n",
    "\n",
    "Similarity Measures in Collaborative Filtering\n",
    "            \n",
    "* Cosine Similarity: Measures the cosine of the angle between two vectors (e.g., user or item rating vectors).\n",
    "\n",
    "Cosine Similarity(A,B)=A.B/\n",
    "​\n",
    " \n",
    "Pearson Correlation: Measures the linear relationship between two users or items.\n",
    "\n",
    "Jaccard Similarity: Measures the similarity between two sets (e.g., items bought by two users).\n",
    "\n",
    "Types of Data in Collaborative Filtering\n",
    "Explicit Feedback: Users give direct ratings (e.g., 5-star ratings for movies).\n",
    "Implicit Feedback: Indirect signals like clicks, views, or purchases.\n",
    "Advantages of Collaborative Filtering\n",
    "Doesn’t need domain-specific knowledge: Relies only on user interactions or behavior.\n",
    "Automatically adapts to changing preferences: As new data comes in, the system updates recommendations.\n",
    "Challenges of Collaborative Filtering\n",
    "Cold Start Problem:\n",
    "\n",
    "New Users: The system lacks enough data to recommend items.\n",
    "New Items: Items with few interactions aren’t recommended.\n",
    "Data Sparsity:\n",
    "\n",
    "Many users only interact with a small subset of items, resulting in sparse matrices.\n",
    "Scalability:\n",
    "\n",
    "Computing similarity for a large number of users or items can be computationally expensive.\n",
    "Applications of Collaborative Filtering\n",
    "Streaming Platforms: Netflix or Spotify recommend shows or songs based on user preferences.\n",
    "E-commerce: Amazon suggests products based on purchase history or viewing behavior.\n",
    "Social Media: Facebook recommends friends based on mutual connections.\n",
    "Collaborative Filtering vs. Content-Based Filtering\n",
    "Feature\tCollaborative Filtering\tContent-Based Filtering\n",
    "Source of Information\tUser interactions (ratings, purchases)\tItem features (genres, keywords)\n",
    "Strength\tLearns from other users' behavior\tDoesn’t require large user interactions\n",
    "Cold-Start Issue\tStruggles with new users or items\tStruggles with insufficient item features\n",
    "Example\t\"Users like you also liked."
   ]
  },
  {
   "cell_type": "code",
   "execution_count": null,
   "id": "6043edc9-0cc9-4094-b022-908709e28846",
   "metadata": {},
   "outputs": [],
   "source": []
  },
  {
   "cell_type": "code",
   "execution_count": null,
   "id": "420489ec-33a2-4633-b45d-cff99f718a07",
   "metadata": {},
   "outputs": [],
   "source": []
  }
 ],
 "metadata": {
  "kernelspec": {
   "display_name": "Python 3 (ipykernel)",
   "language": "python",
   "name": "python3"
  },
  "language_info": {
   "codemirror_mode": {
    "name": "ipython",
    "version": 3
   },
   "file_extension": ".py",
   "mimetype": "text/x-python",
   "name": "python",
   "nbconvert_exporter": "python",
   "pygments_lexer": "ipython3",
   "version": "3.12.4"
  }
 },
 "nbformat": 4,
 "nbformat_minor": 5
}
